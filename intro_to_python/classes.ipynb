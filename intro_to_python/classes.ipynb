{
 "cells": [
  {
   "cell_type": "code",
   "execution_count": 4,
   "id": "11f53bea-efd9-41a9-a3a0-cff5b33d7a71",
   "metadata": {},
   "outputs": [],
   "source": [
    "class Dog:\n",
    "\n",
    "    def __init__(self, id, age, name):\n",
    "        self.id = id\n",
    "        self.age = age\n",
    "        self.name = name\n",
    "\n",
    "    def print_status(self):\n",
    "        print(f\"{self.name}'s age is {self.age}\")\n",
    "        "
   ]
  },
  {
   "cell_type": "code",
   "execution_count": 5,
   "id": "7236d371-d183-405f-9858-6638c84f0f56",
   "metadata": {},
   "outputs": [
    {
     "name": "stdout",
     "output_type": "stream",
     "text": [
      "<__main__.Dog object at 0x7bc5b9271ed0>\n",
      "Sparky's age is 6\n",
      "6\n",
      "Sparky\n"
     ]
    }
   ],
   "source": [
    "sparky = Dog(1, 6, \"Sparky\")\n",
    "print(sparky)\n",
    "sparky.print_status()\n",
    "print(sparky.age)\n",
    "print(sparky.name)"
   ]
  },
  {
   "cell_type": "code",
   "execution_count": 11,
   "id": "10840c1f-8919-4df6-aec3-a7616088cdcd",
   "metadata": {},
   "outputs": [],
   "source": [
    "from dataclasses import dataclass\n",
    "\n",
    "@dataclass\n",
    "class DogData:\n",
    "    id: int\n",
    "    age: int\n",
    "    name: str\n",
    "\n",
    "    def print_status(self):\n",
    "        print(f\"{self.name}'s age is {self.age}\")"
   ]
  },
  {
   "cell_type": "code",
   "execution_count": 12,
   "id": "27e1d06c-6a87-47d4-abd0-2d5d40ad014b",
   "metadata": {},
   "outputs": [
    {
     "name": "stdout",
     "output_type": "stream",
     "text": [
      "DogData(id=2, age=5, name='Sparky')\n",
      "5\n",
      "Sparky\n",
      "Sparky's age is 5\n"
     ]
    }
   ],
   "source": [
    "spot = DogData(2, 5, \"Sparky\")\n",
    "print(spot)\n",
    "print(spot.age)\n",
    "print(spot.name)\n",
    "spot.print_status()"
   ]
  },
  {
   "cell_type": "code",
   "execution_count": null,
   "id": "321ad5fa-529a-49d4-a7df-25edd84590f3",
   "metadata": {},
   "outputs": [],
   "source": []
  }
 ],
 "metadata": {
  "kernelspec": {
   "display_name": "Python 3 (ipykernel)",
   "language": "python",
   "name": "python3"
  },
  "language_info": {
   "codemirror_mode": {
    "name": "ipython",
    "version": 3
   },
   "file_extension": ".py",
   "mimetype": "text/x-python",
   "name": "python",
   "nbconvert_exporter": "python",
   "pygments_lexer": "ipython3",
   "version": "3.11.5"
  }
 },
 "nbformat": 4,
 "nbformat_minor": 5
}

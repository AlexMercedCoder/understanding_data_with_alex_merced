{
 "cells": [
  {
   "cell_type": "code",
   "execution_count": 1,
   "id": "22adaa58-3dfa-4d00-9d9b-0796c993166f",
   "metadata": {},
   "outputs": [
    {
     "name": "stdout",
     "output_type": "stream",
     "text": [
      "10\n",
      "0\n",
      "25\n",
      "1.0\n",
      "3125\n"
     ]
    }
   ],
   "source": [
    "### MATH OPERATORS\n",
    "print(5 + 5) #addition\n",
    "print(5 - 5) #subtraction\n",
    "print(5 * 5) #multiplication\n",
    "print(5 / 5) #division\n",
    "print(5 ** 5) #exponent\n"
   ]
  },
  {
   "cell_type": "code",
   "execution_count": 4,
   "id": "de811a4c-c438-41fb-ab92-8592fe6d5b6c",
   "metadata": {},
   "outputs": [
    {
     "name": "stdout",
     "output_type": "stream",
     "text": [
      "0\n",
      "2\n"
     ]
    }
   ],
   "source": [
    "## Modulo (remainder operator)\n",
    "print( 8 % 2) # If I divided 8 by 2, what is the remainder (should be none)\n",
    "print(8 % 3) # If I divided 8 by 3, what is the remainder (remainder of 2)\n",
    "\n",
    "## If module is anything other than 0, then the first number is not divisible by the second number"
   ]
  },
  {
   "cell_type": "code",
   "execution_count": 6,
   "id": "7296405b-0347-4c17-ada9-e94802abb234",
   "metadata": {},
   "outputs": [
    {
     "name": "stdout",
     "output_type": "stream",
     "text": [
      "it is even\n"
     ]
    }
   ],
   "source": [
    "## Is 10 even?\n",
    "if(10 % 2 == 0):\n",
    "    print(\"it is even\")\n",
    "else:\n",
    "    print(\"it is not even\")"
   ]
  },
  {
   "cell_type": "code",
   "execution_count": 8,
   "id": "c563b710-9088-41b2-a9aa-2f5baadb2427",
   "metadata": {},
   "outputs": [
    {
     "name": "stdout",
     "output_type": "stream",
     "text": [
      "Hello World\n"
     ]
    }
   ],
   "source": [
    "# Concatenation (adding strings together)\n",
    "print(\"Hello\" + \" World\")"
   ]
  },
  {
   "cell_type": "code",
   "execution_count": 12,
   "id": "3d1b9f8f-7f54-451e-b31c-806ea53c3525",
   "metadata": {},
   "outputs": [
    {
     "name": "stdout",
     "output_type": "stream",
     "text": [
      "HelloHelloHelloHelloHello\n"
     ]
    }
   ],
   "source": [
    "print(\"Hello\" * 5)"
   ]
  },
  {
   "cell_type": "code",
   "execution_count": 15,
   "id": "23cd308e-e76e-44c0-8f75-c796bb989c98",
   "metadata": {},
   "outputs": [
    {
     "name": "stdout",
     "output_type": "stream",
     "text": [
      "My name is Alex and I am 38\n"
     ]
    }
   ],
   "source": [
    "## Interpolation (injecting values into a string)\n",
    "name = \"Alex\"\n",
    "print(f\"My name is {name} and I am {30 + 8}\")"
   ]
  },
  {
   "cell_type": "code",
   "execution_count": 16,
   "id": "624db2fb-ad56-42d8-ad3b-e5c9866cca80",
   "metadata": {},
   "outputs": [
    {
     "name": "stdout",
     "output_type": "stream",
     "text": [
      "\n",
      "Dear Alex,\n",
      "\n",
      "jfljsdfljsdflkjdflsdkjf;lkdjfa;ldkfja;ldkjfa;ldkjf\n",
      "\n",
      "\n"
     ]
    }
   ],
   "source": [
    "print(f\"\"\"\n",
    "Dear {name},\n",
    "\n",
    "jfljsdfljsdflkjdflsdkjf;lkdjfa;ldkfja;ldkjfa;ldkjf\n",
    "\n",
    "\"\"\")"
   ]
  },
  {
   "cell_type": "code",
   "execution_count": 17,
   "id": "613deff6-bcd7-4060-87d5-c311e635c33f",
   "metadata": {},
   "outputs": [],
   "source": [
    "### Boolean Operators"
   ]
  },
  {
   "cell_type": "code",
   "execution_count": 19,
   "id": "86ceb1c1-432b-4989-a366-45df21449352",
   "metadata": {},
   "outputs": [
    {
     "name": "stdout",
     "output_type": "stream",
     "text": [
      "False\n",
      "True\n",
      "True\n",
      "False\n",
      "False\n",
      "True\n",
      "False\n",
      "True\n"
     ]
    }
   ],
   "source": [
    "print(1 > 2)\n",
    "print(1 < 2)\n",
    "print(1 <= 2)\n",
    "print(1 >= 2)\n",
    "print(1 == 2)\n",
    "print(1 != 2)\n",
    "print(1 != 2 and 1 != 1)\n",
    "print(1 != 2 or 1 != 1)"
   ]
  },
  {
   "cell_type": "code",
   "execution_count": 20,
   "id": "49ae18d4-7346-4f5a-add6-377f8ffbffa7",
   "metadata": {},
   "outputs": [
    {
     "name": "stdout",
     "output_type": "stream",
     "text": [
      "True\n",
      "False\n"
     ]
    },
    {
     "ename": "NameError",
     "evalue": "name 'true' is not defined",
     "output_type": "error",
     "traceback": [
      "\u001b[0;31m---------------------------------------------------------------------------\u001b[0m",
      "\u001b[0;31mNameError\u001b[0m                                 Traceback (most recent call last)",
      "Cell \u001b[0;32mIn[20], line 3\u001b[0m\n\u001b[1;32m      1\u001b[0m \u001b[38;5;28mprint\u001b[39m(\u001b[38;5;28;01mTrue\u001b[39;00m)\n\u001b[1;32m      2\u001b[0m \u001b[38;5;28mprint\u001b[39m(\u001b[38;5;28;01mFalse\u001b[39;00m)\n\u001b[0;32m----> 3\u001b[0m \u001b[38;5;28mprint\u001b[39m(true)\n",
      "\u001b[0;31mNameError\u001b[0m: name 'true' is not defined"
     ]
    }
   ],
   "source": [
    "print(True)\n",
    "print(False)\n",
    "print(true)"
   ]
  },
  {
   "cell_type": "code",
   "execution_count": null,
   "id": "6c9d19bc-f76d-4937-9f48-e435c802fe16",
   "metadata": {},
   "outputs": [],
   "source": []
  }
 ],
 "metadata": {
  "kernelspec": {
   "display_name": "Python 3 (ipykernel)",
   "language": "python",
   "name": "python3"
  },
  "language_info": {
   "codemirror_mode": {
    "name": "ipython",
    "version": 3
   },
   "file_extension": ".py",
   "mimetype": "text/x-python",
   "name": "python",
   "nbconvert_exporter": "python",
   "pygments_lexer": "ipython3",
   "version": "3.11.5"
  }
 },
 "nbformat": 4,
 "nbformat_minor": 5
}

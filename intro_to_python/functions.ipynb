{
 "cells": [
  {
   "cell_type": "code",
   "execution_count": 1,
   "id": "a3e705cc-c7d0-4977-8fff-28eb0269ad47",
   "metadata": {},
   "outputs": [],
   "source": [
    "## Function - Attaching a Block of Code to a Name\n",
    "## Run that code anytime for as many times as you want"
   ]
  },
  {
   "cell_type": "code",
   "execution_count": 5,
   "id": "afdde894-f8fa-47ba-ad80-83d2bba4255f",
   "metadata": {},
   "outputs": [],
   "source": [
    "## Defining the Function\n",
    "def my_func(message):\n",
    "    print(\"================================================\")\n",
    "    print(message)\n",
    "    print(\"================================================\")"
   ]
  },
  {
   "cell_type": "code",
   "execution_count": 6,
   "id": "23aed727-05d7-40a3-83fe-7576053dca3c",
   "metadata": {},
   "outputs": [
    {
     "name": "stdout",
     "output_type": "stream",
     "text": [
      "================================================\n",
      "cheesE\n",
      "================================================\n",
      "================================================\n",
      "bread\n",
      "================================================\n",
      "================================================\n",
      "wine\n",
      "================================================\n"
     ]
    }
   ],
   "source": [
    "## Invoking the function (using the function)\n",
    "my_func(\"cheesE\")\n",
    "my_func(\"bread\")\n",
    "my_func(\"wine\")"
   ]
  },
  {
   "cell_type": "code",
   "execution_count": 7,
   "id": "78089159-e4c5-4fc8-be87-fb4165323667",
   "metadata": {},
   "outputs": [],
   "source": [
    "def print_values(x,y):\n",
    "    print(\"the value of x is\", x)\n",
    "    print(\"the value of y is\", y)"
   ]
  },
  {
   "cell_type": "code",
   "execution_count": 8,
   "id": "902f2a21-3627-45c2-9a52-d3a9f7aa4622",
   "metadata": {},
   "outputs": [
    {
     "name": "stdout",
     "output_type": "stream",
     "text": [
      "the value of x is 4\n",
      "the value of y is 5\n"
     ]
    }
   ],
   "source": [
    "print_values(4,5) ## arguments fill parameters in order"
   ]
  },
  {
   "cell_type": "code",
   "execution_count": 10,
   "id": "24319f47-cf0f-4c6f-be3d-866e46ef87e2",
   "metadata": {},
   "outputs": [
    {
     "name": "stdout",
     "output_type": "stream",
     "text": [
      "the value of x is 5\n",
      "the value of y is 4\n"
     ]
    }
   ],
   "source": [
    "print_values(y=4,x=5)"
   ]
  },
  {
   "cell_type": "code",
   "execution_count": 12,
   "id": "173387be-e1c4-4e7c-8bc0-eb928cf12dd3",
   "metadata": {},
   "outputs": [],
   "source": [
    "## Lamdas, quick oneline functions\n",
    "add = lambda x,y:x+y"
   ]
  },
  {
   "cell_type": "code",
   "execution_count": 13,
   "id": "6e7142b5-7c9a-40ad-ab0b-9bb64f3d0841",
   "metadata": {},
   "outputs": [
    {
     "name": "stdout",
     "output_type": "stream",
     "text": [
      "4\n"
     ]
    }
   ],
   "source": [
    "print(add(2,2))"
   ]
  },
  {
   "cell_type": "code",
   "execution_count": 15,
   "id": "2379d463-bfe2-4c35-aa7f-28fc7ac92c70",
   "metadata": {},
   "outputs": [
    {
     "name": "stdout",
     "output_type": "stream",
     "text": [
      "[2, 4, 6, 8, 10]\n"
     ]
    }
   ],
   "source": [
    "my_list = [1,2,3,4,5]\n",
    "new_list = list(map(lambda item:item*2, my_list))\n",
    "print(new_list)"
   ]
  },
  {
   "cell_type": "code",
   "execution_count": 18,
   "id": "36eb822f-aa8f-42cb-ab53-349b7866001a",
   "metadata": {},
   "outputs": [
    {
     "name": "stdout",
     "output_type": "stream",
     "text": [
      "(2, 4)\n"
     ]
    }
   ],
   "source": [
    "filtered_list = tuple(filter(lambda item:item % 2 == 0, my_list))\n",
    "print(filtered_list)"
   ]
  },
  {
   "cell_type": "code",
   "execution_count": null,
   "id": "ccb46ad8-427a-45ee-8ec6-003deb165091",
   "metadata": {},
   "outputs": [],
   "source": []
  }
 ],
 "metadata": {
  "kernelspec": {
   "display_name": "Python 3 (ipykernel)",
   "language": "python",
   "name": "python3"
  },
  "language_info": {
   "codemirror_mode": {
    "name": "ipython",
    "version": 3
   },
   "file_extension": ".py",
   "mimetype": "text/x-python",
   "name": "python",
   "nbconvert_exporter": "python",
   "pygments_lexer": "ipython3",
   "version": "3.11.5"
  }
 },
 "nbformat": 4,
 "nbformat_minor": 5
}

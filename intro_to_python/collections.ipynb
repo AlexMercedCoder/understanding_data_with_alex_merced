{
 "cells": [
  {
   "cell_type": "code",
   "execution_count": 5,
   "id": "3476b551-4182-49bf-8a35-b048b6f2023a",
   "metadata": {},
   "outputs": [
    {
     "name": "stdout",
     "output_type": "stream",
     "text": [
      "[1, 2, 3, 4, 5, 6, 7, 8, 9]\n",
      "3\n"
     ]
    }
   ],
   "source": [
    "## Collection, is a way to store multiple pieces of data into one variable\n",
    "\n",
    "## List - an ordered list of items that can be changed\n",
    "my_list = [1,2,3,4,5,6,7,8,9]\n",
    "\n",
    "print(my_list) #print full list\n",
    "print(my_list[2]) # Print out the 3rd (zero based indexing)"
   ]
  },
  {
   "cell_type": "code",
   "execution_count": 6,
   "id": "5c4e2c0f-b1ac-403f-b51f-373f8dd2f551",
   "metadata": {},
   "outputs": [
    {
     "name": "stdout",
     "output_type": "stream",
     "text": [
      "[1, 2, 3, 4, 5, 6, 7, 8, 9, 10]\n"
     ]
    }
   ],
   "source": [
    "my_list.append(10)\n",
    "print(my_list)"
   ]
  },
  {
   "cell_type": "code",
   "execution_count": 7,
   "id": "95b9576b-7787-4ae8-be3f-344c2ea18079",
   "metadata": {},
   "outputs": [
    {
     "data": {
      "text/plain": [
       "6"
      ]
     },
     "execution_count": 7,
     "metadata": {},
     "output_type": "execute_result"
    }
   ],
   "source": [
    "my_list.pop(5)"
   ]
  },
  {
   "cell_type": "code",
   "execution_count": 8,
   "id": "a185d41d-781b-419f-9a6d-a20413530d94",
   "metadata": {},
   "outputs": [
    {
     "name": "stdout",
     "output_type": "stream",
     "text": [
      "[1, 2, 3, 4, 5, 7, 8, 9, 10]\n"
     ]
    }
   ],
   "source": [
    "print(my_list)"
   ]
  },
  {
   "cell_type": "code",
   "execution_count": 9,
   "id": "99048418-678a-4f6b-995a-e1ff4c2952f3",
   "metadata": {},
   "outputs": [],
   "source": [
    "## Dictionary - Key/Value Pairs"
   ]
  },
  {
   "cell_type": "code",
   "execution_count": 10,
   "id": "3d5e89fa-6e52-49ea-9728-d070e23f1d83",
   "metadata": {},
   "outputs": [
    {
     "name": "stdout",
     "output_type": "stream",
     "text": [
      "{'name': 'Alex Merced', 'age': 38}\n",
      "Alex Merced\n"
     ]
    }
   ],
   "source": [
    "my_dictionary = {\"name\" : \"Alex Merced\", \"age\": 38}\n",
    "print(my_dictionary) # Printing the entire dictionary\n",
    "print(my_dictionary[\"name\"]) # Printing one value from the dictionary"
   ]
  },
  {
   "cell_type": "code",
   "execution_count": 11,
   "id": "9413f6d2-9f89-4c2a-bde3-1b86e918f71b",
   "metadata": {},
   "outputs": [
    {
     "name": "stdout",
     "output_type": "stream",
     "text": [
      "(1, 2, 3)\n",
      "1\n"
     ]
    }
   ],
   "source": [
    "## Tuple (List of data that never changes)\n",
    "my_tuple = (1,2,3)\n",
    "print(my_tuple)\n",
    "print(my_tuple[0])"
   ]
  },
  {
   "cell_type": "code",
   "execution_count": 14,
   "id": "0fc1ff25-bc8e-4742-845c-f0f9af0e7762",
   "metadata": {},
   "outputs": [
    {
     "name": "stdout",
     "output_type": "stream",
     "text": [
      "{1, 2, 3, 4, 5, 6, 7}\n",
      "2\n"
     ]
    }
   ],
   "source": [
    "## Sets (list of items with no duplicates)\n",
    "my_set = {1,2,3,4,5,6,6,6,6,6,6,7,7,7,7,7,7}\n",
    "print(my_set)\n",
    "print(list(my_set)[1])"
   ]
  },
  {
   "cell_type": "code",
   "execution_count": null,
   "id": "4ffce25e-7e78-4c62-a0c3-4a347bf1f8bd",
   "metadata": {},
   "outputs": [],
   "source": []
  }
 ],
 "metadata": {
  "kernelspec": {
   "display_name": "Python 3 (ipykernel)",
   "language": "python",
   "name": "python3"
  },
  "language_info": {
   "codemirror_mode": {
    "name": "ipython",
    "version": 3
   },
   "file_extension": ".py",
   "mimetype": "text/x-python",
   "name": "python",
   "nbconvert_exporter": "python",
   "pygments_lexer": "ipython3",
   "version": "3.11.5"
  }
 },
 "nbformat": 4,
 "nbformat_minor": 5
}

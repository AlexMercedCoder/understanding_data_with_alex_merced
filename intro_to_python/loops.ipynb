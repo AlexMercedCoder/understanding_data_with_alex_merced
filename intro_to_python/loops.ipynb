{
 "cells": [
  {
   "cell_type": "code",
   "execution_count": 1,
   "id": "c418b133-4a7a-4428-a4fd-87f86429588a",
   "metadata": {},
   "outputs": [],
   "source": [
    "## LOOP and Iteration"
   ]
  },
  {
   "cell_type": "code",
   "execution_count": 2,
   "id": "35528ce4-e688-4693-bd34-eb348bd63bd2",
   "metadata": {},
   "outputs": [],
   "source": [
    "## Doing things through repetitive"
   ]
  },
  {
   "cell_type": "code",
   "execution_count": 3,
   "id": "90ae40a0-921b-4938-b678-cd7c4216889f",
   "metadata": {},
   "outputs": [
    {
     "name": "stdout",
     "output_type": "stream",
     "text": [
      "0\n",
      "1\n",
      "2\n",
      "3\n",
      "4\n",
      "5\n",
      "6\n",
      "7\n",
      "8\n",
      "9\n"
     ]
    }
   ],
   "source": [
    "## While\n",
    "## While the condition is true\n",
    "## The Code block repeats\n",
    "counter = 0\n",
    "while(counter < 10):\n",
    "    print(counter)\n",
    "    counter += 1"
   ]
  },
  {
   "cell_type": "code",
   "execution_count": 4,
   "id": "7361e455-1de2-43ef-a63a-af215f97a9cd",
   "metadata": {},
   "outputs": [
    {
     "name": "stdout",
     "output_type": "stream",
     "text": [
      "1\n",
      "2\n",
      "3\n",
      "4\n",
      "5\n",
      "6\n"
     ]
    }
   ],
   "source": [
    "my_list = [1,2,3,4,5,6]\n",
    "for num in my_list:\n",
    "    print(num)"
   ]
  },
  {
   "cell_type": "code",
   "execution_count": 5,
   "id": "508a9cc3-d7a0-4918-88cf-7ae9832c8507",
   "metadata": {},
   "outputs": [
    {
     "name": "stdout",
     "output_type": "stream",
     "text": [
      "1\n",
      "2\n",
      "3\n"
     ]
    }
   ],
   "source": [
    "for num in (1,2,3):\n",
    "    print(num)"
   ]
  },
  {
   "cell_type": "code",
   "execution_count": 6,
   "id": "65464936-5be2-4501-bf74-892e1c43eb18",
   "metadata": {},
   "outputs": [
    {
     "name": "stdout",
     "output_type": "stream",
     "text": [
      "1\n",
      "2\n",
      "3\n"
     ]
    }
   ],
   "source": [
    "for num in {1,2,3}:\n",
    "    print(num)"
   ]
  },
  {
   "cell_type": "code",
   "execution_count": 9,
   "id": "e6e56b0d-9b30-4afe-879e-fd9098149b18",
   "metadata": {},
   "outputs": [
    {
     "name": "stdout",
     "output_type": "stream",
     "text": [
      "alex merced\n",
      "38\n"
     ]
    }
   ],
   "source": [
    "my_dict = {\"name\":\"alex merced\", \"age\": 38}\n",
    "for k in my_dict:\n",
    "    print(my_dict[k])"
   ]
  },
  {
   "cell_type": "code",
   "execution_count": 13,
   "id": "3577b6b4-c3c3-4176-aa55-8ffd39e43eac",
   "metadata": {},
   "outputs": [
    {
     "name": "stdout",
     "output_type": "stream",
     "text": [
      "dict_items([('name', 'alex merced'), ('age', 38)])\n",
      "my name equals alex merced\n",
      "my age equals 38\n"
     ]
    }
   ],
   "source": [
    "print(my_dict.items())\n",
    "for k,v in my_dict.items():\n",
    "    print(f\"my {k} equals {v}\")"
   ]
  },
  {
   "cell_type": "code",
   "execution_count": 14,
   "id": "2f0aae34-4c75-464a-8282-33b962b5a872",
   "metadata": {},
   "outputs": [
    {
     "name": "stdout",
     "output_type": "stream",
     "text": [
      "1 2 3\n",
      "4 5 6\n",
      "7 8 9\n"
     ]
    }
   ],
   "source": [
    "list_tup = [(1,2,3),(4,5,6),(7,8,9)]\n",
    "for x,y,z in list_tup:\n",
    "    print(x,y,z)"
   ]
  },
  {
   "cell_type": "code",
   "execution_count": null,
   "id": "8985477c-4a07-41b7-9b11-83895228230e",
   "metadata": {},
   "outputs": [],
   "source": []
  }
 ],
 "metadata": {
  "kernelspec": {
   "display_name": "Python 3 (ipykernel)",
   "language": "python",
   "name": "python3"
  },
  "language_info": {
   "codemirror_mode": {
    "name": "ipython",
    "version": 3
   },
   "file_extension": ".py",
   "mimetype": "text/x-python",
   "name": "python",
   "nbconvert_exporter": "python",
   "pygments_lexer": "ipython3",
   "version": "3.11.5"
  }
 },
 "nbformat": 4,
 "nbformat_minor": 5
}

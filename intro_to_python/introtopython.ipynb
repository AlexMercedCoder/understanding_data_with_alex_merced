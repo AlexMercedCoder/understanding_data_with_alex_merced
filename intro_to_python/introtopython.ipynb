{
 "cells": [
  {
   "cell_type": "code",
   "execution_count": 6,
   "id": "bb60e1da-c5e9-4587-9399-ecc173449a46",
   "metadata": {},
   "outputs": [
    {
     "name": "stdout",
     "output_type": "stream",
     "text": [
      "Hello World 2\n"
     ]
    }
   ],
   "source": [
    "print(\"Hello World 2\")"
   ]
  },
  {
   "cell_type": "code",
   "execution_count": 5,
   "id": "3472f55f-cdca-456c-99db-ccfa0fc70d9b",
   "metadata": {},
   "outputs": [
    {
     "name": "stdout",
     "output_type": "stream",
     "text": [
      "this is all the output\n"
     ]
    }
   ],
   "source": [
    "# Using the # I can write comments, these lines are ignored by the python interpreter\n",
    "print(\"this is all the output\")"
   ]
  },
  {
   "cell_type": "code",
   "execution_count": 7,
   "id": "adf30483-b440-4e34-b23d-65b5a63099c3",
   "metadata": {},
   "outputs": [
    {
     "name": "stdout",
     "output_type": "stream",
     "text": [
      "2\n"
     ]
    }
   ],
   "source": [
    "this_is_my_variable = 2\n",
    "print(this_is_my_variable)"
   ]
  },
  {
   "cell_type": "code",
   "execution_count": 8,
   "id": "e5ff026d-ceba-46bd-8cd7-64a414d8efcf",
   "metadata": {},
   "outputs": [
    {
     "name": "stdout",
     "output_type": "stream",
     "text": [
      "3\n"
     ]
    }
   ],
   "source": [
    "this_is_my_variable = 3\n",
    "print(this_is_my_variable)"
   ]
  },
  {
   "cell_type": "code",
   "execution_count": 9,
   "id": "409a5c0e-cbca-4a1e-be61-8da15ba425d3",
   "metadata": {},
   "outputs": [],
   "source": [
    "my_string = \"Hello\""
   ]
  },
  {
   "cell_type": "code",
   "execution_count": 10,
   "id": "3b2b803e-7af6-4e9b-980c-adad15bf24d8",
   "metadata": {},
   "outputs": [
    {
     "name": "stdout",
     "output_type": "stream",
     "text": [
      "Hello\n"
     ]
    }
   ],
   "source": [
    "print(my_string)"
   ]
  },
  {
   "cell_type": "code",
   "execution_count": 13,
   "id": "d7a2e89c-90a5-4c20-a86b-88dd25aed945",
   "metadata": {},
   "outputs": [
    {
     "name": "stdout",
     "output_type": "stream",
     "text": [
      "didn't match any of the numbers\n"
     ]
    }
   ],
   "source": [
    "my_num = 6\n",
    "if (my_num  8):\n",
    "    print(\"yes, it is equal\")\n",
    "elif (my_num == 7):\n",
    "    print(\"yes, it is seven\")\n",
    "else:\n",
    "    print(\"didn't match any of the numbers\")"
   ]
  },
  {
   "cell_type": "code",
   "execution_count": null,
   "id": "30e1afc0-7cdc-4157-bc6d-4b02031ddc19",
   "metadata": {},
   "outputs": [],
   "source": []
  }
 ],
 "metadata": {
  "kernelspec": {
   "display_name": "Python 3 (ipykernel)",
   "language": "python",
   "name": "python3"
  },
  "language_info": {
   "codemirror_mode": {
    "name": "ipython",
    "version": 3
   },
   "file_extension": ".py",
   "mimetype": "text/x-python",
   "name": "python",
   "nbconvert_exporter": "python",
   "pygments_lexer": "ipython3",
   "version": "3.11.5"
  }
 },
 "nbformat": 4,
 "nbformat_minor": 5
}

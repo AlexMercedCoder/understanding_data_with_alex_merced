{
 "cells": [
  {
   "cell_type": "code",
   "execution_count": 3,
   "id": "55c6076a-43fb-4da8-8d67-7eec4e01eba7",
   "metadata": {},
   "outputs": [
    {
     "name": "stdout",
     "output_type": "stream",
     "text": [
      "shape: (5, 4)\n",
      "┌─────┬──────────────┬───────────────────┬────────────┐\n",
      "│ id  ┆ movie_name   ┆ director_name     ┆ genre_name │\n",
      "│ --- ┆ ---          ┆ ---               ┆ ---        │\n",
      "│ i64 ┆ str          ┆ str               ┆ str        │\n",
      "╞═════╪══════════════╪═══════════════════╪════════════╡\n",
      "│ 1   ┆ Inception    ┆ Christopher Nolan ┆ Action     │\n",
      "│ 2   ┆ The Matrix   ┆ Lana Wachowski    ┆ Sci-Fi     │\n",
      "│ 3   ┆ Fight Club   ┆ David Fincher     ┆ Drama      │\n",
      "│ 4   ┆ Pulp Fiction ┆ Quentin Tarantino ┆ Action     │\n",
      "│ 5   ┆ Forrest Gump ┆ Robert Zemeckis   ┆ Romance    │\n",
      "└─────┴──────────────┴───────────────────┴────────────┘\n"
     ]
    }
   ],
   "source": [
    "import polars as pl\n",
    "\n",
    "# Load the CSV files\n",
    "movie_fact_df = pl.read_csv('movie_fact_table.csv')\n",
    "director_df = pl.read_csv('director_dimension_table.csv')\n",
    "genre_df = pl.read_csv('genre_dimension_table.csv')\n",
    "\n",
    "# Join the movie_fact_df with the director_df\n",
    "movie_director_df = movie_fact_df.join(director_df, on=\"director_id\", how=\"left\")\n",
    "\n",
    "# Join the resulting DataFrame with the genre_df\n",
    "full_movie_df = movie_director_df.join(genre_df, on=\"genre_id\", how=\"left\")\n",
    "\n",
    "# Display the joined DataFrame\n",
    "print(full_movie_df.select([\"id\", \"movie_name\", \"director_name\", \"genre_name\"]))"
   ]
  },
  {
   "cell_type": "code",
   "execution_count": null,
   "id": "4a41d35e-afea-46a2-8828-0a4da380ff41",
   "metadata": {},
   "outputs": [],
   "source": []
  }
 ],
 "metadata": {
  "kernelspec": {
   "display_name": "Python 3 (ipykernel)",
   "language": "python",
   "name": "python3"
  },
  "language_info": {
   "codemirror_mode": {
    "name": "ipython",
    "version": 3
   },
   "file_extension": ".py",
   "mimetype": "text/x-python",
   "name": "python",
   "nbconvert_exporter": "python",
   "pygments_lexer": "ipython3",
   "version": "3.11.5"
  }
 },
 "nbformat": 4,
 "nbformat_minor": 5
}

{
 "cells": [
  {
   "cell_type": "code",
   "execution_count": 5,
   "id": "da2bd6f6-1944-42cc-9fc2-5750bf68a1b0",
   "metadata": {},
   "outputs": [],
   "source": [
    "# Creating sample data for the three CSV files\n",
    "import polars as pl\n",
    "\n",
    "# Movie Fact Table\n",
    "movie_fact_data = {\n",
    "    \"id\": [1, 2, 3, 4, 5],\n",
    "    \"movie_name\": [\"Inception\", \"The Matrix\", \"Fight Club\", \"Pulp Fiction\", \"Forrest Gump\"],\n",
    "    \"genre_id\": [1, 2, 3, 1, 4],\n",
    "    \"director_id\": [1, 2, 3, 4, 5]\n",
    "}\n",
    "movie_fact_df = pl.DataFrame(movie_fact_data)\n",
    "movie_fact_df.write_csv('movie_fact_table.csv', separator=\",\", include_header=True)\n",
    "\n",
    "# Director Dimension Table\n",
    "director_data = {\n",
    "    \"director_id\": [1, 2, 3, 4, 5],\n",
    "    \"director_name\": [\"Christopher Nolan\", \"Lana Wachowski\", \"David Fincher\", \"Quentin Tarantino\", \"Robert Zemeckis\"],\n",
    "    \"birth_year\": [1970, 1965, 1962, 1963, 1952]\n",
    "}\n",
    "director_df = pl.DataFrame(director_data)\n",
    "director_df.write_csv('director_dimension_table.csv', separator=\",\", include_header=True)\n",
    "\n",
    "# Genre Dimension Table\n",
    "genre_data = {\n",
    "    \"genre_id\": [1, 2, 3, 4],\n",
    "    \"genre_name\": [\"Action\", \"Sci-Fi\", \"Drama\", \"Romance\"]\n",
    "}\n",
    "genre_df = pl.DataFrame(genre_data)\n",
    "genre_df.write_csv('genre_dimension_table.csv', separator=\",\", include_header=True)"
   ]
  },
  {
   "cell_type": "code",
   "execution_count": null,
   "id": "da43fabf-68a0-46b2-90e0-35ef62a1b7af",
   "metadata": {},
   "outputs": [],
   "source": []
  }
 ],
 "metadata": {
  "kernelspec": {
   "display_name": "Python 3 (ipykernel)",
   "language": "python",
   "name": "python3"
  },
  "language_info": {
   "codemirror_mode": {
    "name": "ipython",
    "version": 3
   },
   "file_extension": ".py",
   "mimetype": "text/x-python",
   "name": "python",
   "nbconvert_exporter": "python",
   "pygments_lexer": "ipython3",
   "version": "3.11.5"
  }
 },
 "nbformat": 4,
 "nbformat_minor": 5
}

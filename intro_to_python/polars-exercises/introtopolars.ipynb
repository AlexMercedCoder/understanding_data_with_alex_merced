{
 "cells": [
  {
   "cell_type": "code",
   "execution_count": 1,
   "id": "d9d77858-80de-49df-b0cc-e1d912dd9056",
   "metadata": {},
   "outputs": [
    {
     "name": "stdout",
     "output_type": "stream",
     "text": [
      "shape: (2, 3)\n",
      "┌─────┬──────┬─────┐\n",
      "│ id  ┆ name ┆ age │\n",
      "│ --- ┆ ---  ┆ --- │\n",
      "│ i64 ┆ str  ┆ i64 │\n",
      "╞═════╪══════╪═════╡\n",
      "│ 1   ┆ Alex ┆ 38  │\n",
      "│ 2   ┆ Tony ┆ 35  │\n",
      "└─────┴──────┴─────┘\n"
     ]
    }
   ],
   "source": [
    "import polars as pl\n",
    "\n",
    "data = {\"id\": [1,2], \"name\":[\"Alex\", \"Tony\"], \"age\": [38, 35]}\n",
    "\n",
    "df = pl.DataFrame(data)\n",
    "\n",
    "print(df)"
   ]
  },
  {
   "cell_type": "code",
   "execution_count": 7,
   "id": "0951c1b2-10ed-43df-97de-0f5254606421",
   "metadata": {},
   "outputs": [
    {
     "name": "stdout",
     "output_type": "stream",
     "text": [
      "shape: (1, 1)\n",
      "┌─────┐\n",
      "│ age │\n",
      "│ --- │\n",
      "│ i64 │\n",
      "╞═════╡\n",
      "│ 73  │\n",
      "└─────┘\n",
      "shape: (1, 1)\n",
      "┌─────┐\n",
      "│ age │\n",
      "│ --- │\n",
      "│ i64 │\n",
      "╞═════╡\n",
      "│ 38  │\n",
      "└─────┘\n"
     ]
    }
   ],
   "source": [
    "total_age = df.select(pl.sum(\"age\"))\n",
    "max_age = df.select(pl.max(\"age\"))\n",
    "\n",
    "print(total_age)\n",
    "print(max_age)"
   ]
  },
  {
   "cell_type": "code",
   "execution_count": 8,
   "id": "4691af92-d2f3-4cb9-9c8c-dedee660f65f",
   "metadata": {},
   "outputs": [
    {
     "name": "stdout",
     "output_type": "stream",
     "text": [
      "shape: (1, 1)\n",
      "┌──────┐\n",
      "│ age  │\n",
      "│ ---  │\n",
      "│ f64  │\n",
      "╞══════╡\n",
      "│ 36.5 │\n",
      "└──────┘\n",
      "shape: (1, 1)\n",
      "┌─────┐\n",
      "│ age │\n",
      "│ --- │\n",
      "│ i64 │\n",
      "╞═════╡\n",
      "│ 35  │\n",
      "└─────┘\n"
     ]
    }
   ],
   "source": [
    "avg_age = df.select(pl.mean(\"age\"))\n",
    "min_age = df.select(pl.min(\"age\"))\n",
    "\n",
    "print(avg_age)\n",
    "print(min_age)"
   ]
  },
  {
   "cell_type": "code",
   "execution_count": 9,
   "id": "6aad3d2e-e987-4d63-af6d-f24bb2cd8db7",
   "metadata": {},
   "outputs": [
    {
     "name": "stdout",
     "output_type": "stream",
     "text": [
      "shape: (1, 3)\n",
      "┌─────┬──────┬─────┐\n",
      "│ id  ┆ name ┆ age │\n",
      "│ --- ┆ ---  ┆ --- │\n",
      "│ i64 ┆ str  ┆ i64 │\n",
      "╞═════╪══════╪═════╡\n",
      "│ 2   ┆ Tony ┆ 35  │\n",
      "└─────┴──────┴─────┘\n"
     ]
    }
   ],
   "source": [
    "thirty_five = df.filter(pl.col(\"age\") == 35)\n",
    "print(thirty_five)"
   ]
  },
  {
   "cell_type": "code",
   "execution_count": null,
   "id": "5cc43b17-c5c4-4027-96e0-7683696bab98",
   "metadata": {},
   "outputs": [],
   "source": []
  }
 ],
 "metadata": {
  "kernelspec": {
   "display_name": "Python 3 (ipykernel)",
   "language": "python",
   "name": "python3"
  },
  "language_info": {
   "codemirror_mode": {
    "name": "ipython",
    "version": 3
   },
   "file_extension": ".py",
   "mimetype": "text/x-python",
   "name": "python",
   "nbconvert_exporter": "python",
   "pygments_lexer": "ipython3",
   "version": "3.11.5"
  }
 },
 "nbformat": 4,
 "nbformat_minor": 5
}

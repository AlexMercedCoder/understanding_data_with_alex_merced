{
 "cells": [
  {
   "cell_type": "code",
   "execution_count": 3,
   "id": "50596b28-99c7-4107-9fe4-ff27ac28d5ed",
   "metadata": {},
   "outputs": [
    {
     "name": "stdout",
     "output_type": "stream",
     "text": [
      "shape: (15, 3)\n",
      "┌───────────────────────────────────┬─────────────────────────────────┬───────────┐\n",
      "│ Title                             ┆ Director                        ┆ Genre     │\n",
      "│ ---                               ┆ ---                             ┆ ---       │\n",
      "│ str                               ┆ str                             ┆ str       │\n",
      "╞═══════════════════════════════════╪═════════════════════════════════╪═══════════╡\n",
      "│ The Shawshank Redemption          ┆ Frank Darabont                  ┆ Drama     │\n",
      "│ The Godfather                     ┆ Francis Ford Coppola            ┆ Crime     │\n",
      "│ The Dark Knight                   ┆ Christopher Nolan               ┆ Action    │\n",
      "│ 12 Angry Men                      ┆ Sidney Lumet                    ┆ Drama     │\n",
      "│ …                                 ┆ …                               ┆ …         │\n",
      "│ Star Wars: Episode V - The Empir… ┆ Irvin Kershner                  ┆ Action    │\n",
      "│ The Lord of the Rings: The Two T… ┆ Peter Jackson                   ┆ Adventure │\n",
      "│ The Matrix                        ┆ Lana Wachowski, Lilly Wachowski ┆ Action    │\n",
      "│ Goodfellas                        ┆ Martin Scorsese                 ┆ Crime     │\n",
      "└───────────────────────────────────┴─────────────────────────────────┴───────────┘\n"
     ]
    }
   ],
   "source": [
    "import polars as pl\n",
    "\n",
    "# Create a DataFrame with movie data\n",
    "data = {\n",
    "    \"Title\": [\n",
    "        \"The Shawshank Redemption\", \"The Godfather\", \"The Dark Knight\",\n",
    "        \"12 Angry Men\", \"Schindler's List\", \"The Lord of the Rings: The Return of the King\",\n",
    "        \"Pulp Fiction\", \"Forrest Gump\", \"Inception\", \"Fight Club\",\n",
    "        \"The Lord of the Rings: The Fellowship of the Ring\", \"Star Wars: Episode V - The Empire Strikes Back\",\n",
    "        \"The Lord of the Rings: The Two Towers\", \"The Matrix\", \"Goodfellas\"\n",
    "    ],\n",
    "    \"Director\": [\n",
    "        \"Frank Darabont\", \"Francis Ford Coppola\", \"Christopher Nolan\",\n",
    "        \"Sidney Lumet\", \"Steven Spielberg\", \"Peter Jackson\",\n",
    "        \"Quentin Tarantino\", \"Robert Zemeckis\", \"Christopher Nolan\", \"David Fincher\",\n",
    "        \"Peter Jackson\", \"Irvin Kershner\", \"Peter Jackson\", \"Lana Wachowski, Lilly Wachowski\", \"Martin Scorsese\"\n",
    "    ],\n",
    "    \"Genre\": [\n",
    "        \"Drama\", \"Crime\", \"Action\",\n",
    "        \"Drama\", \"Biography\", \"Adventure\",\n",
    "        \"Crime\", \"Drama\", \"Action\", \"Drama\",\n",
    "        \"Adventure\", \"Action\", \"Adventure\", \"Action\", \"Crime\"\n",
    "    ]\n",
    "}\n",
    "\n",
    "df = pl.DataFrame(data)\n",
    "print(df)"
   ]
  },
  {
   "cell_type": "code",
   "execution_count": 4,
   "id": "7b56f2c5-5dea-462d-a527-470016d510e3",
   "metadata": {
    "scrolled": true
   },
   "outputs": [
    {
     "name": "stdout",
     "output_type": "stream",
     "text": [
      "Total count of movies: 15\n",
      "Count by genre:\n",
      "shape: (5, 2)\n",
      "┌───────────┬───────┐\n",
      "│ Genre     ┆ Count │\n",
      "│ ---       ┆ ---   │\n",
      "│ str       ┆ u32   │\n",
      "╞═══════════╪═══════╡\n",
      "│ Action    ┆ 4     │\n",
      "│ Biography ┆ 1     │\n",
      "│ Crime     ┆ 3     │\n",
      "│ Adventure ┆ 3     │\n",
      "│ Drama     ┆ 4     │\n",
      "└───────────┴───────┘\n"
     ]
    },
    {
     "name": "stderr",
     "output_type": "stream",
     "text": [
      "/tmp/ipykernel_48364/904532218.py:5: DeprecationWarning: `groupby` is deprecated. It has been renamed to `group_by`.\n",
      "  count_by_genre = df.groupby(\"Genre\").agg(pl.count(\"Title\").alias(\"Count\"))\n"
     ]
    }
   ],
   "source": [
    "# Run a count on the entire DataFrame\n",
    "total_count = df.height\n",
    "\n",
    "# Run a count by genre\n",
    "count_by_genre = df.groupby(\"Genre\").agg(pl.count(\"Title\").alias(\"Count\"))\n",
    "\n",
    "print(\"Total count of movies:\", total_count)\n",
    "print(\"Count by genre:\")\n",
    "print(count_by_genre)"
   ]
  },
  {
   "cell_type": "code",
   "execution_count": 5,
   "id": "e71930db-37a1-4eab-815f-4c198bc9989a",
   "metadata": {
    "scrolled": true
   },
   "outputs": [
    {
     "name": "stdout",
     "output_type": "stream",
     "text": [
      "DataFrame with Director and Genre for Drama movies:\n",
      "shape: (4, 2)\n",
      "┌─────────────────┬───────┐\n",
      "│ Director        ┆ Genre │\n",
      "│ ---             ┆ ---   │\n",
      "│ str             ┆ str   │\n",
      "╞═════════════════╪═══════╡\n",
      "│ Frank Darabont  ┆ Drama │\n",
      "│ Sidney Lumet    ┆ Drama │\n",
      "│ Robert Zemeckis ┆ Drama │\n",
      "│ David Fincher   ┆ Drama │\n",
      "└─────────────────┴───────┘\n"
     ]
    }
   ],
   "source": [
    "# Create a data frame of just director and genre for drama movies\n",
    "drama_movies = df.filter(pl.col(\"Genre\") == \"Drama\").select([\"Director\", \"Genre\"])\n",
    "\n",
    "print(\"DataFrame with Director and Genre for Drama movies:\")\n",
    "print(drama_movies)"
   ]
  },
  {
   "cell_type": "code",
   "execution_count": null,
   "id": "83ee3f65-1264-4feb-8902-10487e9b15cf",
   "metadata": {},
   "outputs": [],
   "source": []
  }
 ],
 "metadata": {
  "kernelspec": {
   "display_name": "Python 3 (ipykernel)",
   "language": "python",
   "name": "python3"
  },
  "language_info": {
   "codemirror_mode": {
    "name": "ipython",
    "version": 3
   },
   "file_extension": ".py",
   "mimetype": "text/x-python",
   "name": "python",
   "nbconvert_exporter": "python",
   "pygments_lexer": "ipython3",
   "version": "3.11.5"
  }
 },
 "nbformat": 4,
 "nbformat_minor": 5
}
